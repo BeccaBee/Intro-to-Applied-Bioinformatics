{
 "metadata": {
  "name": "",
  "signature": "sha256:d9642c5f49012e8ff1091ee3039dea450489c6d47b217199dc406b91e2dbd78c"
 },
 "nbformat": 3,
 "nbformat_minor": 0,
 "worksheets": [
  {
   "cells": [
    {
     "cell_type": "markdown",
     "metadata": {},
     "source": [
      "This chapter introduces the idea of *biological information*, and relates that to information in computer science. "
     ]
    }
   ],
   "metadata": {}
  }
 ]
}